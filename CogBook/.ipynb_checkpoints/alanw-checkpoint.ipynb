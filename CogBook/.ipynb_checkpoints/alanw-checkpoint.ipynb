{
 "cells": [
  {
   "cell_type": "code",
   "execution_count": 1,
   "id": "eeb0a9e5",
   "metadata": {},
   "outputs": [
    {
     "name": "stdout",
     "output_type": "stream",
     "text": [
      "evan_0.png\n"
     ]
    },
    {
     "name": "stderr",
     "output_type": "stream",
     "text": [
      "[W NNPACK.cpp:51] Could not initialize NNPACK! Reason: Unsupported hardware.\n"
     ]
    },
    {
     "name": "stdout",
     "output_type": "stream",
     "text": [
      "alan_0.png\n",
      "evan_1.png\n"
     ]
    }
   ],
   "source": [
    "# code below is for updating database file\n",
    "\n",
    "from CogBook import *\n",
    "from PIL import Image\n",
    "\n",
    "import pickle\n",
    "import numpy as np\n",
    "import os\n",
    "\n",
    "\n",
    "\n",
    "# assign directory\n",
    "directory = '../Images'\n",
    "\n",
    "# iterate over files in\n",
    "# that directory\n",
    "fileList = []\n",
    "\n",
    "for filename in os.listdir(directory):\n",
    "    f = os.path.join(directory, filename)\n",
    "    if os.path.isfile(f):\n",
    "        fileList.append((f, filename))\n",
    "\n",
    "\n",
    "profileDB = load_profiles_from_file()\n",
    "\n",
    "for fileInfo in fileList:\n",
    "    print(fileInfo[1])\n",
    "\n",
    "    name, number = fileInfo[1].split(\".\")[0].split(\"_\")\n",
    "    \n",
    "    img_data = np.array(Image.open(fileInfo[0]))[:,:,:3]\n",
    "    descriptors = get_descriptors(img_data)\n",
    "    \n",
    "    save_vector_to_profile(profileDB, name, descriptors)\n",
    "    \n",
    "save_profiles_to_file(profileDB)"
   ]
  },
  {
   "cell_type": "code",
   "execution_count": null,
   "id": "7cf0a2f0",
   "metadata": {},
   "outputs": [],
   "source": []
  }
 ],
 "metadata": {
  "kernelspec": {
   "display_name": "Python 3 (ipykernel)",
   "language": "python",
   "name": "python3"
  },
  "language_info": {
   "codemirror_mode": {
    "name": "ipython",
    "version": 3
   },
   "file_extension": ".py",
   "mimetype": "text/x-python",
   "name": "python",
   "nbconvert_exporter": "python",
   "pygments_lexer": "ipython3",
   "version": "3.8.13"
  }
 },
 "nbformat": 4,
 "nbformat_minor": 5
}
