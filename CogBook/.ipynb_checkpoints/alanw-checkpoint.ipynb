{
 "cells": [
  {
   "cell_type": "code",
   "execution_count": null,
   "id": "e6d37e78",
   "metadata": {},
   "outputs": [],
   "source": [
    "%matplotlib notebook\n",
    "from CogBook import\n",
    "\n",
    "while True:\n",
    "    choice = input(\"Upload (u) or take a photo (c)? \")\n",
    "    if choice==\"u\":\n",
    "        filepath = input(\"Filepath: \")\n",
    "        \n",
    "        break\n",
    "    elif choice==\"c\":\n",
    "        f\n",
    "        break\n",
    "    else:\n",
    "        print(\"Invalid input. Try again. \")"
   ]
  }
 ],
 "metadata": {
  "kernelspec": {
   "display_name": "Python 3 (ipykernel)",
   "language": "python",
   "name": "python3"
  },
  "language_info": {
   "codemirror_mode": {
    "name": "ipython",
    "version": 3
   },
   "file_extension": ".py",
   "mimetype": "text/x-python",
   "name": "python",
   "nbconvert_exporter": "python",
   "pygments_lexer": "ipython3",
   "version": "3.8.13"
  }
 },
 "nbformat": 4,
 "nbformat_minor": 5
}
