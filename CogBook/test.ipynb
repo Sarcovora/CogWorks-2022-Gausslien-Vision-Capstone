{
 "cells": [
  {
   "cell_type": "code",
   "execution_count": null,
   "id": "bd314333",
   "metadata": {},
   "outputs": [],
   "source": [
    "from nodes_adj_graph import nodes_adj_graph\n",
    "from Node import plot_graph"
   ]
  },
  {
   "cell_type": "code",
   "execution_count": null,
   "id": "dc066a8c",
   "metadata": {},
   "outputs": [],
   "source": [
    "nodes, adj_graph = nodes_adj_graph([r\"C:\\Users\\ejian\\CogWorks-2022-Gausslien-Vision-Capstone\\Whiskers_Images\\Chadwick Boseman_1.jpeg\", r\"C:\\Users\\ejian\\CogWorks-2022-Gausslien-Vision-Capstone\\Whiskers_Images\\Chadwick Boseman_2.jpeg\", r\"C:\\Users\\ejian\\CogWorks-2022-Gausslien-Vision-Capstone\\Whiskers_Images\\Chadwick Boseman_3.jpeg\"])\n",
    "\n",
    "plot_graph(nodes, adj_graph)\n",
    "for i in nodes:\n",
    "    print(i.neighbors)\n",
    "\n",
    "\n"
   ]
  }
 ],
 "metadata": {
  "kernelspec": {
   "display_name": "Python 3 (ipykernel)",
   "language": "python",
   "name": "python3"
  },
  "language_info": {
   "codemirror_mode": {
    "name": "ipython",
    "version": 3
   },
   "file_extension": ".py",
   "mimetype": "text/x-python",
   "name": "python",
   "nbconvert_exporter": "python",
   "pygments_lexer": "ipython3",
   "version": "3.8.13"
  }
 },
 "nbformat": 4,
 "nbformat_minor": 5
}
