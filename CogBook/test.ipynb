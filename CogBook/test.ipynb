{
 "cells": [
  {
   "cell_type": "code",
   "execution_count": 1,
   "id": "bd314333",
   "metadata": {},
   "outputs": [],
   "source": [
    "from nodes_adj_graph import nodes_adj_graph\n",
    "from Node import plot_graph\n",
    "from whiskers import whiskers\n",
    "import os"
   ]
  },
  {
   "cell_type": "code",
   "execution_count": 2,
   "id": "bee12076",
   "metadata": {},
   "outputs": [],
   "source": [
    "directory = r\"..\\Whiskers_Images\"\n",
    "fileList = []\n",
    "for filename in os.listdir(directory):\n",
    "    f = os.path.join(directory, filename)\n",
    "    if os.path.isfile(f):\n",
    "        fileList.append(f)\n",
    "\n",
    "fileList = fileList[1:8]\n",
    "\n",
    "#print(fileList)\n",
    "        \n",
    "nodes, adj_graph = nodes_adj_graph(fileList)"
   ]
  },
  {
   "cell_type": "code",
   "execution_count": 3,
   "id": "dc066a8c",
   "metadata": {},
   "outputs": [
    {
     "name": "stdout",
     "output_type": "stream",
     "text": [
      "[1 2]\n",
      "[0 2]\n",
      "[0 1]\n",
      "[4 5]\n",
      "[3 5]\n",
      "[3 4]\n",
      "[]\n",
      "{1: 76.55130004882812, 2: 71.43463897705078}\n",
      "{3: 146.96217346191406, 4: 32.02497863769531}\n",
      "{1: 76.55130004882812, 2: 71.43463897705078}\n",
      "{1: 76.55130004882812, 2: 71.43463897705078}\n",
      "{3: 32.02497863769531}\n",
      "{}\n"
     ]
    },
    {
     "ename": "ValueError",
     "evalue": "max() arg is an empty sequence",
     "output_type": "error",
     "traceback": [
      "\u001b[1;31m---------------------------------------------------------------------------\u001b[0m",
      "\u001b[1;31mValueError\u001b[0m                                Traceback (most recent call last)",
      "Input \u001b[1;32mIn [3]\u001b[0m, in \u001b[0;36m<cell line: 4>\u001b[1;34m()\u001b[0m\n\u001b[0;32m      1\u001b[0m \u001b[38;5;28;01mfor\u001b[39;00m i \u001b[38;5;129;01min\u001b[39;00m nodes:\n\u001b[0;32m      2\u001b[0m     \u001b[38;5;28mprint\u001b[39m(i\u001b[38;5;241m.\u001b[39mneighbors)\n\u001b[1;32m----> 4\u001b[0m \u001b[43mwhiskers\u001b[49m\u001b[43m(\u001b[49m\u001b[38;5;241;43m80\u001b[39;49m\u001b[43m,\u001b[49m\u001b[43m \u001b[49m\u001b[43mnodes\u001b[49m\u001b[43m,\u001b[49m\u001b[43m \u001b[49m\u001b[43madj_graph\u001b[49m\u001b[43m)\u001b[49m\n\u001b[0;32m      6\u001b[0m plot_graph(nodes, adj_graph)\n",
      "File \u001b[1;32m~\\CogWorks-2022-Gausslien-Vision-Capstone\\CogBook\\whiskers.py:23\u001b[0m, in \u001b[0;36mwhiskers\u001b[1;34m(iterations, nodes, adj_matrix)\u001b[0m\n\u001b[0;32m     21\u001b[0m node \u001b[38;5;241m=\u001b[39m nodes[random\u001b[38;5;241m.\u001b[39mrandint(\u001b[38;5;241m0\u001b[39m, \u001b[38;5;28mlen\u001b[39m(nodes)\u001b[38;5;241m-\u001b[39m\u001b[38;5;241m1\u001b[39m)]\n\u001b[0;32m     22\u001b[0m neighbors \u001b[38;5;241m=\u001b[39m [nodes[i] \u001b[38;5;28;01mfor\u001b[39;00m i \u001b[38;5;129;01min\u001b[39;00m node\u001b[38;5;241m.\u001b[39mneighbors]\n\u001b[1;32m---> 23\u001b[0m \u001b[43mpropagate_label\u001b[49m\u001b[43m(\u001b[49m\u001b[43mnode\u001b[49m\u001b[43m,\u001b[49m\u001b[43m \u001b[49m\u001b[43mneighbors\u001b[49m\u001b[43m,\u001b[49m\u001b[43m \u001b[49m\u001b[43madj_matrix\u001b[49m\u001b[43m)\u001b[49m\n\u001b[0;32m     24\u001b[0m groupings \u001b[38;5;241m=\u001b[39m connected_components(nodes)\n\u001b[0;32m     25\u001b[0m num_grouping_history\u001b[38;5;241m.\u001b[39mappend(\u001b[38;5;28mlen\u001b[39m(groupings))\n",
      "File \u001b[1;32m~\\CogWorks-2022-Gausslien-Vision-Capstone\\CogBook\\propagate_label.py:13\u001b[0m, in \u001b[0;36mpropagate_label\u001b[1;34m(node, neighbors, adjacency_matrix)\u001b[0m\n\u001b[0;32m     11\u001b[0m             edge_weights[key] \u001b[38;5;241m=\u001b[39m edge_weights\u001b[38;5;241m.\u001b[39mget(neighbor\u001b[38;5;241m.\u001b[39mlabel) \u001b[38;5;241m+\u001b[39m adjacency_matrix[node\u001b[38;5;241m.\u001b[39mid][neighbor\u001b[38;5;241m.\u001b[39mid]\n\u001b[0;32m     12\u001b[0m \u001b[38;5;28mprint\u001b[39m(edge_weights)\n\u001b[1;32m---> 13\u001b[0m node\u001b[38;5;241m.\u001b[39mlabel \u001b[38;5;241m=\u001b[39m \u001b[38;5;28;43mmax\u001b[39;49m\u001b[43m(\u001b[49m\u001b[43medge_weights\u001b[49m\u001b[43m,\u001b[49m\u001b[43m \u001b[49m\u001b[43mkey\u001b[49m\u001b[38;5;241;43m=\u001b[39;49m\u001b[43medge_weights\u001b[49m\u001b[38;5;241;43m.\u001b[39;49m\u001b[43mget\u001b[49m\u001b[43m)\u001b[49m\n",
      "\u001b[1;31mValueError\u001b[0m: max() arg is an empty sequence"
     ]
    }
   ],
   "source": [
    "for i in nodes:\n",
    "    print(i.neighbors)\n",
    "\n",
    "whiskers(80, nodes, adj_graph)\n",
    "    \n",
    "plot_graph(nodes, adj_graph)"
   ]
  }
 ],
 "metadata": {
  "kernelspec": {
   "display_name": "Python 3 (ipykernel)",
   "language": "python",
   "name": "python3"
  },
  "language_info": {
   "codemirror_mode": {
    "name": "ipython",
    "version": 3
   },
   "file_extension": ".py",
   "mimetype": "text/x-python",
   "name": "python",
   "nbconvert_exporter": "python",
   "pygments_lexer": "ipython3",
   "version": "3.8.13"
  }
 },
 "nbformat": 4,
 "nbformat_minor": 5
}
