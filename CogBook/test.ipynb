{
 "cells": [
  {
   "cell_type": "code",
   "execution_count": 1,
   "id": "bd314333",
   "metadata": {},
   "outputs": [],
   "source": [
    "from nodes_adj_graph import nodes_adj_graph\n",
    "from Node import plot_graph\n",
    "import os"
   ]
  },
  {
   "cell_type": "code",
   "execution_count": 2,
   "id": "dc066a8c",
   "metadata": {},
   "outputs": [
    {
     "name": "stdout",
     "output_type": "stream",
     "text": [
      "['../Whiskers_Images\\\\Chadwick Boseman_1.jpeg', '../Whiskers_Images\\\\Chadwick Boseman_2.jpeg', '../Whiskers_Images\\\\Chadwick Boseman_3.jpeg', '../Whiskers_Images\\\\Chadwick Boseman_4.jpg', '../Whiskers_Images\\\\Ed Sheeran_1.jpeg', '../Whiskers_Images\\\\Ed Sheeran_2.jpeg', '../Whiskers_Images\\\\Ed Sheeran_3.jpeg', '../Whiskers_Images\\\\Ed Sheeran_4.jpeg', '../Whiskers_Images\\\\Joe Biden_1.jpeg', '../Whiskers_Images\\\\Joe Biden_2.jpeg', '../Whiskers_Images\\\\Joe Biden_3.jpeg', '../Whiskers_Images\\\\Joe Biden_4.jpeg', '../Whiskers_Images\\\\Michelle Obama_1.jpeg', '../Whiskers_Images\\\\Michelle Obama_2.jpeg', '../Whiskers_Images\\\\Michelle Obama_3.jpeg', '../Whiskers_Images\\\\Michelle Obama_4.jpeg', '../Whiskers_Images\\\\Priyanka Chopra_1.jpeg', '../Whiskers_Images\\\\Priyanka Chopra_2.jpeg', '../Whiskers_Images\\\\Priyanka Chopra_4.jpeg', '../Whiskers_Images\\\\Simone Biles_1.jpeg', '../Whiskers_Images\\\\Simone Biles_2.jpeg', '../Whiskers_Images\\\\Simone Biles_3.jpeg', '../Whiskers_Images\\\\Simone Biles_4.jpeg', '../Whiskers_Images\\\\Simu Liu_1.jpeg', '../Whiskers_Images\\\\Simu Liu_2.jpeg', '../Whiskers_Images\\\\Simu Liu_3.png', '../Whiskers_Images\\\\Simu Liu_4.jpeg', '../Whiskers_Images\\\\Sofia Vergara_1.jpeg', '../Whiskers_Images\\\\Sofia Vergara_2.jpeg', '../Whiskers_Images\\\\Sofia Vergara_3.jpeg', '../Whiskers_Images\\\\Sofia Vergara_4.jpeg', '../Whiskers_Images\\\\Stephen Curry_1.jpeg', '../Whiskers_Images\\\\Stephen Curry_2.jpeg', '../Whiskers_Images\\\\Stephen Curry_3.jpeg', '../Whiskers_Images\\\\Stephen Curry_4.jpeg', '../Whiskers_Images\\\\Taylor Swift_1.jpeg', '../Whiskers_Images\\\\Taylor Swift_2.jpeg', '../Whiskers_Images\\\\Taylor Swift_3.jpeg', '../Whiskers_Images\\\\Taylor Swift_4.jpeg']\n",
      "[116.52049  31.36193 191.88135 135.81767] 0.99995005\n",
      "[383.4375    40.715355 841.8266   664.60986 ] 1.0\n",
      "[276.5252  110.04041 448.66718 351.64893] 0.99999416\n",
      "[387.10678  92.55025 736.57196 561.35254] 0.9999999\n",
      "[ 272.7897   307.38107  830.0134  1005.89105] 0.99983025\n",
      "[577.8434  301.12622 985.18866 824.3683 ] 0.9998281\n",
      "[ 68.1348   53.76509 149.91904 153.00256] 0.99965954\n",
      "[159.35353 152.4555  448.2451  507.77875] 0.999997\n",
      "[ 71.25191  43.45454 129.39977 126.65003] 0.9991196\n",
      "[219.74173 176.28433 683.6565  799.87897] 0.9998363\n",
      "[ 597.8814   110.96034 1009.9739   664.55096] 0.9999337\n",
      "[415.51202 108.65894 684.9281  490.5869 ] 0.9999982\n",
      "[400.6638  137.28413 726.0043  601.8683 ] 0.9999993\n",
      "[208.48221  73.54792 338.83652 261.60864] 0.99999917\n",
      "[140.92044  82.53277 257.6785  248.3298 ] 0.9998578\n",
      "[ 812.93994  128.50848 1260.6909   755.1278 ] 0.99990106\n",
      "[ 756.6786   149.83525 1085.8407   595.5088 ] 0.9999933\n",
      "[487.0622  189.43045 749.6335  538.8839 ] 0.99987495\n",
      "[ 773.99023  498.23593 1634.015   1611.2537 ] 0.9994604\n",
      "[2016.0099 2181.807  2034.5823 2206.3374] 0.88255215\n",
      "[1001.7333   380.07605 1937.1364  1551.4415 ] 0.99994445\n",
      "[217.82399 105.03445 398.46042 348.3729 ] 0.99999964\n",
      "[ 771.3852   234.574   1244.1813   838.11096] 0.9999064\n",
      "[246.87839  41.72467 378.84326 227.28607] 0.99997485\n",
      "[ 744.7606   206.22945 1216.5901   855.8813 ] 0.9999763\n",
      "[377.72266 172.98106 717.46625 649.2337 ] 0.999811\n",
      "[556.41864 300.1059  961.091   817.0206 ] 0.9999486\n",
      "[388.25812 216.27895 660.4446  569.3706 ] 0.9999989\n",
      "[344.40738  81.52839 737.6111  621.9975 ] 0.9999286\n",
      "[268.5326  192.70535 616.8914  643.3623 ] 0.99934334\n",
      "[165.99498   38.249374 337.25952  294.8038  ] 0.9996735\n",
      "[224.26862  85.90019 436.6856  340.63794] 0.9987596\n",
      "[ 458.38507  330.04572 1265.9677  1408.7157 ] 0.99994254\n",
      "[ 48.23253  39.64296 131.95718 148.95447] 0.9999962\n",
      "[221.56425   59.596737 449.76926  343.88165 ] 0.99999976\n",
      "[ 734.29376  107.32905 1107.0835   648.17706] 0.9999987\n",
      "[292.1815  229.05737 766.009   893.848  ] 0.9996012\n",
      "[183.25978  -29.100119 474.66248  369.90564 ] 0.9998293\n",
      "[300.89008  92.54352 506.01526 356.33432] 0.99999654\n",
      "[203.3381   78.84844 369.23093 290.73016] 0.9996823\n"
     ]
    },
    {
     "ename": "ValueError",
     "evalue": "cannot reshape array of size 1024 into shape (1,512)",
     "output_type": "error",
     "traceback": [
      "\u001b[1;31m---------------------------------------------------------------------------\u001b[0m",
      "\u001b[1;31mValueError\u001b[0m                                Traceback (most recent call last)",
      "Input \u001b[1;32mIn [2]\u001b[0m, in \u001b[0;36m<cell line: 11>\u001b[1;34m()\u001b[0m\n\u001b[0;32m      8\u001b[0m fileList \u001b[38;5;241m=\u001b[39m fileList[\u001b[38;5;241m1\u001b[39m:]\n\u001b[0;32m      9\u001b[0m \u001b[38;5;28mprint\u001b[39m(fileList)\n\u001b[1;32m---> 11\u001b[0m nodes, adj_graph \u001b[38;5;241m=\u001b[39m \u001b[43mnodes_adj_graph\u001b[49m\u001b[43m(\u001b[49m\u001b[43mfileList\u001b[49m\u001b[43m)\u001b[49m\n\u001b[0;32m     14\u001b[0m plot_graph(nodes, adj_graph)\n\u001b[0;32m     15\u001b[0m \u001b[38;5;28;01mfor\u001b[39;00m i \u001b[38;5;129;01min\u001b[39;00m nodes:\n",
      "File \u001b[1;32m~\\CogWorks-2022-Gausslien-Vision-Capstone\\CogBook\\nodes_adj_graph.py:44\u001b[0m, in \u001b[0;36mnodes_adj_graph\u001b[1;34m(image_paths)\u001b[0m\n\u001b[0;32m     42\u001b[0m \u001b[38;5;28;01mif\u001b[39;00m (descriptors[i] \u001b[38;5;129;01mis\u001b[39;00m \u001b[38;5;28;01mNone\u001b[39;00m \u001b[38;5;129;01mor\u001b[39;00m descriptors[j] \u001b[38;5;129;01mis\u001b[39;00m \u001b[38;5;28;01mNone\u001b[39;00m):\n\u001b[0;32m     43\u001b[0m     \u001b[38;5;28;01mcontinue\u001b[39;00m\n\u001b[1;32m---> 44\u001b[0m distance \u001b[38;5;241m=\u001b[39m cos_distance(descriptors[i]\u001b[38;5;241m.\u001b[39mreshape(\u001b[38;5;241m1\u001b[39m, \u001b[38;5;241m512\u001b[39m), \u001b[43mdescriptors\u001b[49m\u001b[43m[\u001b[49m\u001b[43mj\u001b[49m\u001b[43m]\u001b[49m\u001b[38;5;241;43m.\u001b[39;49m\u001b[43mreshape\u001b[49m\u001b[43m(\u001b[49m\u001b[38;5;241;43m1\u001b[39;49m\u001b[43m,\u001b[49m\u001b[43m \u001b[49m\u001b[38;5;241;43m512\u001b[39;49m\u001b[43m)\u001b[49m)\n\u001b[0;32m     45\u001b[0m \u001b[38;5;28;01mif\u001b[39;00m (distance \u001b[38;5;241m<\u001b[39m threshold):\n\u001b[0;32m     46\u001b[0m     adj_graph[i,j] \u001b[38;5;241m=\u001b[39m \u001b[38;5;241m1\u001b[39m\u001b[38;5;241m/\u001b[39m(distance\u001b[38;5;241m*\u001b[39m\u001b[38;5;241m*\u001b[39m\u001b[38;5;241m2\u001b[39m)\n",
      "\u001b[1;31mValueError\u001b[0m: cannot reshape array of size 1024 into shape (1,512)"
     ]
    }
   ],
   "source": [
    "directory = r\"../Whiskers_Images\"\n",
    "fileList = []\n",
    "for filename in os.listdir(directory):\n",
    "    f = os.path.join(directory, filename)\n",
    "    if os.path.isfile(f):\n",
    "        fileList.append(f)\n",
    "\n",
    "fileList = fileList[1:]\n",
    "print(fileList)\n",
    "        \n",
    "nodes, adj_graph = nodes_adj_graph(fileList)\n",
    "\n",
    "\n",
    "plot_graph(nodes, adj_graph)\n",
    "for i in nodes:\n",
    "    print(i.neighbors)\n",
    "\n",
    "    \n",
    "print(adj_graph)"
   ]
  }
 ],
 "metadata": {
  "kernelspec": {
   "display_name": "Python 3 (ipykernel)",
   "language": "python",
   "name": "python3"
  },
  "language_info": {
   "codemirror_mode": {
    "name": "ipython",
    "version": 3
   },
   "file_extension": ".py",
   "mimetype": "text/x-python",
   "name": "python",
   "nbconvert_exporter": "python",
   "pygments_lexer": "ipython3",
   "version": "3.8.13"
  }
 },
 "nbformat": 4,
 "nbformat_minor": 5
}
