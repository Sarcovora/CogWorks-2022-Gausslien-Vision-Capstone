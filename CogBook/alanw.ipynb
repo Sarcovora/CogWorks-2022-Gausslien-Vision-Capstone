{
 "cells": [
  {
   "cell_type": "code",
   "execution_count": 5,
   "id": "ea02da59",
   "metadata": {},
   "outputs": [
    {
     "ename": "EOFError",
     "evalue": "Ran out of input",
     "output_type": "error",
     "traceback": [
      "\u001b[0;31m---------------------------------------------------------------------------\u001b[0m",
      "\u001b[0;31mEOFError\u001b[0m                                  Traceback (most recent call last)",
      "Input \u001b[0;32mIn [5]\u001b[0m, in \u001b[0;36m<cell line: 25>\u001b[0;34m()\u001b[0m\n\u001b[1;32m     21\u001b[0m     \u001b[38;5;28;01mif\u001b[39;00m os\u001b[38;5;241m.\u001b[39mpath\u001b[38;5;241m.\u001b[39misfile(f):\n\u001b[1;32m     22\u001b[0m         fileList\u001b[38;5;241m.\u001b[39mappend((f, filename))\n\u001b[0;32m---> 25\u001b[0m profileDB \u001b[38;5;241m=\u001b[39m \u001b[43mload_profiles_from_file\u001b[49m\u001b[43m(\u001b[49m\u001b[43m)\u001b[49m\n\u001b[1;32m     27\u001b[0m \u001b[38;5;28;01mfor\u001b[39;00m fileInfo \u001b[38;5;129;01min\u001b[39;00m fileList:\n\u001b[1;32m     28\u001b[0m     \u001b[38;5;28mprint\u001b[39m(fileInfo[\u001b[38;5;241m1\u001b[39m])\n",
      "File \u001b[0;32m~/Github/CogWorks-2022-Gausslien-Vision-Capstone/CogBook/profile_functionality.py:29\u001b[0m, in \u001b[0;36mload_profiles_from_file\u001b[0;34m()\u001b[0m\n\u001b[1;32m     27\u001b[0m \u001b[38;5;28;01mdef\u001b[39;00m \u001b[38;5;21mload_profiles_from_file\u001b[39m():\n\u001b[1;32m     28\u001b[0m     \u001b[38;5;28;01mwith\u001b[39;00m \u001b[38;5;28mopen\u001b[39m(\u001b[38;5;124m'\u001b[39m\u001b[38;5;124mprofiles.pkl\u001b[39m\u001b[38;5;124m'\u001b[39m,\u001b[38;5;124m'\u001b[39m\u001b[38;5;124mrb\u001b[39m\u001b[38;5;124m'\u001b[39m) \u001b[38;5;28;01mas\u001b[39;00m f:\n\u001b[0;32m---> 29\u001b[0m         \u001b[38;5;28;01mreturn\u001b[39;00m \u001b[43mpickle\u001b[49m\u001b[38;5;241;43m.\u001b[39;49m\u001b[43mload\u001b[49m\u001b[43m(\u001b[49m\u001b[43mf\u001b[49m\u001b[43m)\u001b[49m\n",
      "\u001b[0;31mEOFError\u001b[0m: Ran out of input"
     ]
    }
   ],
   "source": [
    "# code below is for updating database file\n",
    "\n",
    "from CogBook import *\n",
    "from PIL import Image\n",
    "\n",
    "import pickle\n",
    "import numpy as np\n",
    "import os\n",
    "\n",
    "\n",
    "\n",
    "# assign directory\n",
    "directory = '../Images'\n",
    "\n",
    "# iterate over files in\n",
    "# that directory\n",
    "fileList = []\n",
    "\n",
    "for filename in os.listdir(directory):\n",
    "    f = os.path.join(directory, filename)\n",
    "    if os.path.isfile(f):\n",
    "        fileList.append((f, filename))\n",
    "\n",
    "\n",
    "profileDB = load_profiles_from_file()\n",
    "\n",
    "for fileInfo in fileList:\n",
    "    print(fileInfo[1])\n",
    "\n",
    "    name, number = fileInfo[1].split(\".\")[0].split(\"_\")\n",
    "    \n",
    "    img_data = np.array(Image.open(fileInfo[0]))[:,:,:3]\n",
    "    descriptors = get_descriptors(img_data)\n",
    "    \n",
    "    save_vector_to_profile(profileDB, name, descriptors)\n",
    "    \n",
    "save_profiles_to_file(profileDB)"
   ]
  }
 ],
 "metadata": {
  "kernelspec": {
   "display_name": "Python 3 (ipykernel)",
   "language": "python",
   "name": "python3"
  },
  "language_info": {
   "codemirror_mode": {
    "name": "ipython",
    "version": 3
   },
   "file_extension": ".py",
   "mimetype": "text/x-python",
   "name": "python",
   "nbconvert_exporter": "python",
   "pygments_lexer": "ipython3",
   "version": "3.8.13"
  }
 },
 "nbformat": 4,
 "nbformat_minor": 5
}
