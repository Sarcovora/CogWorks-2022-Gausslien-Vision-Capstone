{
 "cells": [
  {
   "cell_type": "code",
   "execution_count": null,
   "id": "e6d37e78",
   "metadata": {},
   "outputs": [],
   "source": [
    "%matplotlib notebook"
   ]
  },
  {
   "cell_type": "code",
   "execution_count": null,
   "id": "a4bd7068",
   "metadata": {},
   "outputs": [],
   "source": [
    "from CogBook import label_faces\n",
    "from PIL import Image\n",
    "from camera import take_picture\n",
    "import numpy as np\n",
    "\n",
    "while True:\n",
    "    choice = input(\"Upload (u) or take a photo (c)? \")\n",
    "    \n",
    "    if choice==\"u\":\n",
    "        filepath = input(\"Filepath: \")\n",
    "        pic = np.array(Image.open(filepath))[:,:,:3]\n",
    "        label_faces(pic)\n",
    "        break\n",
    "    elif choice==\"c\":\n",
    "        pic = take_picture()\n",
    "        label_faces(pic)\n",
    "        break\n",
    "    else:\n",
    "        print(\"Invalid input. Try again. \")"
   ]
  },
  {
   "cell_type": "code",
   "execution_count": 1,
   "id": "ac6a9e53",
   "metadata": {},
   "outputs": [],
   "source": []
  }
 ],
 "metadata": {
  "kernelspec": {
   "display_name": "Python 3 (ipykernel)",
   "language": "python",
   "name": "python3"
  },
  "language_info": {
   "codemirror_mode": {
    "name": "ipython",
    "version": 3
   },
   "file_extension": ".py",
   "mimetype": "text/x-python",
   "name": "python",
   "nbconvert_exporter": "python",
   "pygments_lexer": "ipython3",
   "version": "3.8.13"
  }
 },
 "nbformat": 4,
 "nbformat_minor": 5
}
