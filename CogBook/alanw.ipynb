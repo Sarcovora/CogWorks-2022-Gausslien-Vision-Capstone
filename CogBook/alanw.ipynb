{
 "cells": [
  {
   "cell_type": "code",
   "execution_count": 1,
   "id": "af60f735",
   "metadata": {},
   "outputs": [],
   "source": [
    "import numpy as np\n",
    "import pickle\n",
    "from CogBook import cos_distance\n",
    "\n",
    "\"\"\"\n",
    "profiles_dict is a dictionary that maps names to the corresponding Profile object\n",
    "\"\"\"\n",
    "\n",
    "class Profile:\n",
    "    def __init__(self, name):\n",
    "        self.name = name\n",
    "        self.vectors = [] # Array of length 512 vectors\n",
    "    def add_vector(self, vector):\n",
    "        self.vectors.append(vector)\n",
    "    def clear_vectors(self):\n",
    "        self.vectors.clear()\n",
    "    def avg_vector(self):\n",
    "        return np.mean(np.array(self.vectors), axis=0)\n",
    "    def match_score(self, newVector):\n",
    "        return cos_distance(np.mean(newVector, np.array(self.vectors), axis=0))\n",
    "    \n",
    "\n",
    "def save_profiles_to_file(profiles_dict):\n",
    "    with open('profiles.pkl','wb') as f:\n",
    "        pickle.dump(f, profiles_dict)\n",
    "\n",
    "def load_profiles_from_file():\n",
    "    with open('profiles.pkl','rb') as f:\n",
    "        return pickle.load(f)\n",
    "\n",
    "def add_empty_profile(profiles_dict, name):\n",
    "    profiles_dict[name] = Profile(name)\n",
    "    \n",
    "def remove_profile(profiles_dict, name):\n",
    "    # assumes name is a valid key of profiles_dict\n",
    "    conf = input(\"Confirm deletion of profile \"+name+\"? (y/n)\")\n",
    "    if conf==\"y\":\n",
    "        del profiles_dict[name]\n",
    "\n",
    "def save_vector_to_profile(profiles_dict, name, vector):\n",
    "    if name not in profiles_dict:\n",
    "        add_empty_profile(profiles_dict, name)\n",
    "    profiles_dict[name].addVector(vector)\n",
    "\n",
    "def query_database(vector):\n",
    "    profiles_dict = load_profiles_from_file()\n",
    "    \n",
    "    mindist = 2\n",
    "    for name, profile in profiles_dict.items():\n",
    "        if profile.avg_vector() < mindist:\n",
    "            mindist = profile.avg_vector()\n",
    "            minname = name\n",
    "    \n",
    "    return name"
   ]
  }
 ],
 "metadata": {
  "kernelspec": {
   "display_name": "Python 3 (ipykernel)",
   "language": "python",
   "name": "python3"
  },
  "language_info": {
   "codemirror_mode": {
    "name": "ipython",
    "version": 3
   },
   "file_extension": ".py",
   "mimetype": "text/x-python",
   "name": "python",
   "nbconvert_exporter": "python",
   "pygments_lexer": "ipython3",
   "version": "3.8.13"
  }
 },
 "nbformat": 4,
 "nbformat_minor": 5
}
