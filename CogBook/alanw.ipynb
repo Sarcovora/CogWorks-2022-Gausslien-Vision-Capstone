{
 "cells": [
  {
   "cell_type": "code",
   "execution_count": 4,
   "id": "4fb198e8",
   "metadata": {
    "scrolled": true
   },
   "outputs": [
    {
     "name": "stdout",
     "output_type": "stream",
     "text": [
      "evan_0.png\n"
     ]
    },
    {
     "name": "stderr",
     "output_type": "stream",
     "text": [
      "[W NNPACK.cpp:51] Could not initialize NNPACK! Reason: Unsupported hardware.\n"
     ]
    },
    {
     "name": "stdout",
     "output_type": "stream",
     "text": [
      "alan_0.png\n",
      "evan_1.png\n"
     ]
    }
   ],
   "source": [
    "# code below is for updating database file\n",
    "\n",
    "from CogBook import *\n",
    "from PIL import Image\n",
    "from shutil import move\n",
    "\n",
    "import pickle\n",
    "import numpy as np\n",
    "import os\n",
    "\n",
    "\n",
    "\n",
    "# assign directory\n",
    "directory = '../Images'\n",
    "loadedDir = '../Loaded_Images'\n",
    "\n",
    "# iterate over files in\n",
    "# that directory\n",
    "fileList = []\n",
    "\n",
    "for filename in os.listdir(directory):\n",
    "    filepath = os.path.join(directory, filename)\n",
    "    destination = os.path.join(loadedDir, filename)\n",
    "    \n",
    "    if os.path.isfile(filepath):\n",
    "        fileList.append((filepath, filename, destination))\n",
    "\n",
    "\n",
    "profileDB = load_profiles_from_file()\n",
    "\n",
    "for fileInfo in fileList:\n",
    "    print(fileInfo[1])\n",
    "\n",
    "    name, number = fileInfo[1].split(\".\")[0].split(\"_\")\n",
    "    \n",
    "    img_data = np.array(Image.open(fileInfo[0]))[:,:,:3]\n",
    "    descriptors = get_descriptors(img_data)\n",
    "    \n",
    "    save_vector_to_profile(profileDB, name, descriptors)\n",
    "    \n",
    "    move(fileInfo[0], fileInfo[2])\n",
    "    \n",
    "save_profiles_to_file(profileDB)"
   ]
  },
  {
   "cell_type": "code",
   "execution_count": 6,
   "id": "c7f44db9",
   "metadata": {},
   "outputs": [],
   "source": [
    "from shutil import move\n",
    "import pickle\n",
    "import os\n",
    "\n",
    "emptyDict = {}\n",
    "with open(\"profiles.pkl\", 'wb') as f:\n",
    "    pickle.dump(emptyDict, f)\n",
    "\n",
    "directory = '../Images'\n",
    "loadedDir = '../Loaded_Images'\n",
    "\n",
    "for filename in os.listdir(loadedDir):\n",
    "    filepath = os.path.join(loadedDir, filename)\n",
    "    destination = os.path.join(directory, filename)\n",
    "    \n",
    "    if os.path.isfile(filepath):\n",
    "        move(filepath, destination)"
   ]
  }
 ],
 "metadata": {
  "kernelspec": {
   "display_name": "Python 3 (ipykernel)",
   "language": "python",
   "name": "python3"
  },
  "language_info": {
   "codemirror_mode": {
    "name": "ipython",
    "version": 3
   },
   "file_extension": ".py",
   "mimetype": "text/x-python",
   "name": "python",
   "nbconvert_exporter": "python",
   "pygments_lexer": "ipython3",
   "version": "3.8.13"
  }
 },
 "nbformat": 4,
 "nbformat_minor": 5
}
